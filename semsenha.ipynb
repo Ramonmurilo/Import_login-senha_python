{
 "cells": [
  {
   "cell_type": "markdown",
   "id": "mechanical-matter",
   "metadata": {},
   "source": [
    "## Método 1 (windows)\n",
    "    salvando as variaveis no ambiente/usuário para chama-las no código"
   ]
  },
  {
   "cell_type": "code",
   "execution_count": null,
   "id": "helpful-simulation",
   "metadata": {},
   "outputs": [],
   "source": [
    "'''\n",
    "Siga o caminho: Painel de controle > Sistema > configurações avançadas de sistema > Variáveis de ambiente > Novo\n",
    "\n",
    "Crie sua variável e valor\n",
    "\n",
    "exemplo: Variavel \"meu_login\"     valor \"meu_login@exemplo.com\"\n",
    "\n",
    "A partir daí será possível chamar esta variavel em qualquer script pelo método: os.environ.get('meu_login')\n",
    "\n",
    "_________________________________________________________________________________________________________\n",
    "Obs.: repetindo o caminho inicial é possível ver a variável e valor\n",
    "'''"
   ]
  },
  {
   "cell_type": "code",
   "execution_count": 1,
   "id": "guided-cinema",
   "metadata": {},
   "outputs": [],
   "source": [
    "import os"
   ]
  },
  {
   "cell_type": "code",
   "execution_count": 7,
   "id": "computational-invitation",
   "metadata": {},
   "outputs": [],
   "source": [
    "email = os.environ.get('meu_login')\n",
    "senha = os.environ.get('minha_senha')"
   ]
  },
  {
   "cell_type": "code",
   "execution_count": 10,
   "id": "systematic-connecticut",
   "metadata": {},
   "outputs": [
    {
     "name": "stdout",
     "output_type": "stream",
     "text": [
      "email: meu_login@exemplo.com \n",
      "\n",
      "senha: minhasenhaexemplo123\n"
     ]
    }
   ],
   "source": [
    "print('email: '+email,'\\n\\n' 'senha: '+senha)"
   ]
  },
  {
   "cell_type": "markdown",
   "id": "valid-correspondence",
   "metadata": {},
   "source": [
    "## Método 1.2 (LINUX)\n",
    "    salvando as variaveis no ambiente/usuário para chama-las no código"
   ]
  },
  {
   "cell_type": "code",
   "execution_count": null,
   "id": "fantastic-delta",
   "metadata": {},
   "outputs": [],
   "source": [
    "'''\n",
    "Abra o Terminal:\n",
    "    Digite \"nano .bash_profile\" e pressione Enter;\n",
    "    edite o arquivo e nele coloque seu login e senha na sintaxe\n",
    "    <export meu_login=\"meu_login@exemplo.com\">\n",
    "    <export minha_senha=\"minhasenhaexemplo123\">\n",
    "\n",
    "    Salve a alteração\n",
    "\n",
    "A partir daí será possível chamar esta variavel em qualquer script pelo método: os.environ.get('meu_login')\n",
    "\n",
    "_________________________________________________________________________________________________________\n",
    "Obs.: repetindo o caminho inicial é possível ver a variável e valor\n",
    "'''"
   ]
  },
  {
   "cell_type": "markdown",
   "id": "sophisticated-detector",
   "metadata": {},
   "source": [
    "## Método 2\n",
    "    criando arquivo .py separado"
   ]
  },
  {
   "cell_type": "code",
   "execution_count": null,
   "id": "extensive-junior",
   "metadata": {},
   "outputs": [],
   "source": [
    "'''\n",
    "Crie arquivo .py e escreva nele de forma direta e simples os dados, exemplo:\n",
    "meu_login=\"meu_login@exemplo.com\"\n",
    "minha_senha=\"minhasenhaexemplo123\"\n",
    "\n",
    "importe o py com o nome dado ao arquivo. meu exemplo foi \"usuario.py\"\n",
    "\n",
    "chame o método criado. Meu exemplo: usuario.meu_login ou usuario.minha_senha\n",
    "\n",
    "_________________________________________________________________________________________________________\n",
    "Obs.: Abrindo o arquivo usuario.py é possível ver login e senha\n",
    "Obs.: Este exemplo simplificado só funciona se o usuario.py e o script que o utilizará estiverem na mesma pasta\n",
    "'''"
   ]
  },
  {
   "cell_type": "code",
   "execution_count": 45,
   "id": "alike-performance",
   "metadata": {},
   "outputs": [],
   "source": [
    "import usuario\n",
    "\n",
    "login = usuario.meu_login\n",
    "senha = usuario.minha_senha"
   ]
  },
  {
   "cell_type": "code",
   "execution_count": 46,
   "id": "addressed-rolling",
   "metadata": {},
   "outputs": [
    {
     "name": "stdout",
     "output_type": "stream",
     "text": [
      "usuario: meu_login@exemplo.com \n",
      "\n",
      "senha:  minhasenhaexemplo123\n"
     ]
    }
   ],
   "source": [
    "print('usuario: '+login,'\\n\\n' 'senha:  '+senha)"
   ]
  }
 ],
 "metadata": {
  "kernelspec": {
   "display_name": "Python 3",
   "language": "python",
   "name": "python3"
  },
  "language_info": {
   "codemirror_mode": {
    "name": "ipython",
    "version": 3
   },
   "file_extension": ".py",
   "mimetype": "text/x-python",
   "name": "python",
   "nbconvert_exporter": "python",
   "pygments_lexer": "ipython3",
   "version": "3.7.4"
  }
 },
 "nbformat": 4,
 "nbformat_minor": 5
}
